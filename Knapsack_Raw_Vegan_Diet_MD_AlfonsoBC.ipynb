{
 "cells": [
  {
   "cell_type": "markdown",
   "metadata": {},
   "source": [
    "# Proyecto Matematicas Discretas"
   ]
  },
  {
   "cell_type": "markdown",
   "metadata": {},
   "source": [
    "#### Profesor Leonardo Ignacio Martinez Sandoval\n",
    "#### Ayudante Victor Hugo Almendra Hernandez"
   ]
  },
  {
   "cell_type": "markdown",
   "metadata": {},
   "source": [
    "Alfonso Barajas Cervantes"
   ]
  },
  {
   "cell_type": "code",
   "execution_count": 1,
   "metadata": {},
   "outputs": [],
   "source": [
    "import numpy as np\n",
    "import pandas as pd\n",
    "from random import choices, randint, randrange, random\n",
    "from typing import List, Optional, Callable, Tuple\n",
    "import collections"
   ]
  },
  {
   "cell_type": "markdown",
   "metadata": {},
   "source": [
    "# Optimizacion Costo-Nutricion Dieta Vegetariana Cruda"
   ]
  },
  {
   "cell_type": "markdown",
   "metadata": {},
   "source": [
    "A continuación escribe el presupuesto semanal para comprar alimentos de la dieta Vegetariana Cruda (Sin símbolo de pesos, sólo número) =:"
   ]
  },
  {
   "cell_type": "code",
   "execution_count": 2,
   "metadata": {},
   "outputs": [
    {
     "name": "stdout",
     "output_type": "stream",
     "text": [
      "1000\n"
     ]
    }
   ],
   "source": [
    "presupuesto_total = float(input())\n",
    "#pruebe con 800,1000, 1200, 1600 (presupuesto menor a 8000 pesos) (Mas informacion cheque Suposiciones)"
   ]
  },
  {
   "cell_type": "markdown",
   "metadata": {},
   "source": [
    "Se procede a dividir el presupuesto para obtener el dinero que se destinará a las frutas, verduras y semillas oleaginosas. Con un $40 \\%$ destinado a las frutas, un $40 \\%$ a las semillas oleaginosas mientras que el restante $20 \\%$ para las verduras."
   ]
  },
  {
   "cell_type": "code",
   "execution_count": 3,
   "metadata": {},
   "outputs": [],
   "source": [
    "def division_presupuesto(p):\n",
    "    f = 0.4*p\n",
    "    v = 0.2*p\n",
    "    o = 0.4*p\n",
    "    return f,v,o\n",
    "W_f, W_v, W_o = division_presupuesto(presupuesto_total)"
   ]
  },
  {
   "cell_type": "markdown",
   "metadata": {},
   "source": [
    "# Frutas"
   ]
  },
  {
   "cell_type": "code",
   "execution_count": 4,
   "metadata": {},
   "outputs": [
    {
     "data": {
      "text/html": [
       "<div>\n",
       "<style scoped>\n",
       "    .dataframe tbody tr th:only-of-type {\n",
       "        vertical-align: middle;\n",
       "    }\n",
       "\n",
       "    .dataframe tbody tr th {\n",
       "        vertical-align: top;\n",
       "    }\n",
       "\n",
       "    .dataframe thead th {\n",
       "        text-align: right;\n",
       "    }\n",
       "</style>\n",
       "<table border=\"1\" class=\"dataframe\">\n",
       "  <thead>\n",
       "    <tr style=\"text-align: right;\">\n",
       "      <th></th>\n",
       "      <th>id_fruits</th>\n",
       "      <th>fruits</th>\n",
       "      <th>price</th>\n",
       "      <th>value_f</th>\n",
       "    </tr>\n",
       "  </thead>\n",
       "  <tbody>\n",
       "    <tr>\n",
       "      <th>0</th>\n",
       "      <td>1</td>\n",
       "      <td>AGUACATE</td>\n",
       "      <td>30</td>\n",
       "      <td>5</td>\n",
       "    </tr>\n",
       "    <tr>\n",
       "      <th>1</th>\n",
       "      <td>2</td>\n",
       "      <td>AGUACATE CRIOLLO</td>\n",
       "      <td>25</td>\n",
       "      <td>5</td>\n",
       "    </tr>\n",
       "    <tr>\n",
       "      <th>2</th>\n",
       "      <td>3</td>\n",
       "      <td>CAPULÍN</td>\n",
       "      <td>40</td>\n",
       "      <td>5</td>\n",
       "    </tr>\n",
       "    <tr>\n",
       "      <th>3</th>\n",
       "      <td>4</td>\n",
       "      <td>CEREZAS</td>\n",
       "      <td>50</td>\n",
       "      <td>5</td>\n",
       "    </tr>\n",
       "    <tr>\n",
       "      <th>4</th>\n",
       "      <td>5</td>\n",
       "      <td>CHABACANO</td>\n",
       "      <td>80</td>\n",
       "      <td>4</td>\n",
       "    </tr>\n",
       "  </tbody>\n",
       "</table>\n",
       "</div>"
      ],
      "text/plain": [
       "   id_fruits            fruits  price  value_f\n",
       "0          1          AGUACATE     30        5\n",
       "1          2  AGUACATE CRIOLLO     25        5\n",
       "2          3           CAPULÍN     40        5\n",
       "3          4           CEREZAS     50        5\n",
       "4          5         CHABACANO     80        4"
      ]
     },
     "execution_count": 4,
     "metadata": {},
     "output_type": "execute_result"
    }
   ],
   "source": [
    "dff = pd.read_csv('fruits.csv', sep=',' ,encoding='latin-1') \n",
    "dff.head()"
   ]
  },
  {
   "cell_type": "code",
   "execution_count": 5,
   "metadata": {},
   "outputs": [],
   "source": [
    "name_f = dff.iloc[0:53,1]\n",
    "weight_f = dff.iloc[0:53,2]\n",
    "value_f = dff.iloc[0:53,3]\n",
    "name_fr = []\n",
    "weight_fr = []\n",
    "value_fr = []\n",
    "for i in range(52):\n",
    "    name_fr.append(name_f[i])\n",
    "    value_fr.append(value_f[i])\n",
    "    weight_fr.append(weight_f[i])\n",
    "#name_fr\n",
    "#weight_fr\n",
    "#value_fr"
   ]
  },
  {
   "cell_type": "markdown",
   "metadata": {},
   "source": [
    "# Verduras"
   ]
  },
  {
   "cell_type": "code",
   "execution_count": 6,
   "metadata": {},
   "outputs": [
    {
     "data": {
      "text/html": [
       "<div>\n",
       "<style scoped>\n",
       "    .dataframe tbody tr th:only-of-type {\n",
       "        vertical-align: middle;\n",
       "    }\n",
       "\n",
       "    .dataframe tbody tr th {\n",
       "        vertical-align: top;\n",
       "    }\n",
       "\n",
       "    .dataframe thead th {\n",
       "        text-align: right;\n",
       "    }\n",
       "</style>\n",
       "<table border=\"1\" class=\"dataframe\">\n",
       "  <thead>\n",
       "    <tr style=\"text-align: right;\">\n",
       "      <th></th>\n",
       "      <th>id_veg</th>\n",
       "      <th>veg</th>\n",
       "      <th>price</th>\n",
       "      <th>value_f</th>\n",
       "    </tr>\n",
       "  </thead>\n",
       "  <tbody>\n",
       "    <tr>\n",
       "      <th>0</th>\n",
       "      <td>54</td>\n",
       "      <td>ALCACHOFA</td>\n",
       "      <td>80</td>\n",
       "      <td>4</td>\n",
       "    </tr>\n",
       "    <tr>\n",
       "      <th>1</th>\n",
       "      <td>55</td>\n",
       "      <td>ACELGA</td>\n",
       "      <td>25</td>\n",
       "      <td>5</td>\n",
       "    </tr>\n",
       "    <tr>\n",
       "      <th>2</th>\n",
       "      <td>56</td>\n",
       "      <td>APIO</td>\n",
       "      <td>25</td>\n",
       "      <td>3</td>\n",
       "    </tr>\n",
       "    <tr>\n",
       "      <th>3</th>\n",
       "      <td>57</td>\n",
       "      <td>BERROS</td>\n",
       "      <td>20</td>\n",
       "      <td>4</td>\n",
       "    </tr>\n",
       "    <tr>\n",
       "      <th>4</th>\n",
       "      <td>58</td>\n",
       "      <td>BROCOLI</td>\n",
       "      <td>40</td>\n",
       "      <td>3</td>\n",
       "    </tr>\n",
       "  </tbody>\n",
       "</table>\n",
       "</div>"
      ],
      "text/plain": [
       "   id_veg        veg  price  value_f\n",
       "0      54  ALCACHOFA     80        4\n",
       "1      55     ACELGA     25        5\n",
       "2      56       APIO     25        3\n",
       "3      57     BERROS     20        4\n",
       "4      58    BROCOLI     40        3"
      ]
     },
     "execution_count": 6,
     "metadata": {},
     "output_type": "execute_result"
    }
   ],
   "source": [
    "dfv = pd.read_csv('veg_all.csv', sep=',' ,encoding='latin-1') \n",
    "dfv.head()"
   ]
  },
  {
   "cell_type": "code",
   "execution_count": 7,
   "metadata": {},
   "outputs": [],
   "source": [
    "name_v = dfv.iloc[0:53,1]\n",
    "weight_v = dfv.iloc[0:53,2]\n",
    "value_v = dfv.iloc[0:53,3]\n",
    "name_ve = []\n",
    "weight_ve = []\n",
    "value_ve = []\n",
    "for i in range(53):\n",
    "    name_ve.append(name_v[i])\n",
    "    value_ve.append(value_v[i])\n",
    "    weight_ve.append(weight_v[i])\n",
    "#name_ve\n",
    "#weight_ve\n",
    "#value_ve"
   ]
  },
  {
   "cell_type": "markdown",
   "metadata": {},
   "source": [
    "# Semillas Oleaginosas"
   ]
  },
  {
   "cell_type": "code",
   "execution_count": 8,
   "metadata": {},
   "outputs": [
    {
     "data": {
      "text/html": [
       "<div>\n",
       "<style scoped>\n",
       "    .dataframe tbody tr th:only-of-type {\n",
       "        vertical-align: middle;\n",
       "    }\n",
       "\n",
       "    .dataframe tbody tr th {\n",
       "        vertical-align: top;\n",
       "    }\n",
       "\n",
       "    .dataframe thead th {\n",
       "        text-align: right;\n",
       "    }\n",
       "</style>\n",
       "<table border=\"1\" class=\"dataframe\">\n",
       "  <thead>\n",
       "    <tr style=\"text-align: right;\">\n",
       "      <th></th>\n",
       "      <th>id_oilseeds</th>\n",
       "      <th>oilseeds</th>\n",
       "      <th>price</th>\n",
       "      <th>value_f</th>\n",
       "    </tr>\n",
       "  </thead>\n",
       "  <tbody>\n",
       "    <tr>\n",
       "      <th>9</th>\n",
       "      <td>113</td>\n",
       "      <td>NUEZ</td>\n",
       "      <td>250</td>\n",
       "      <td>5</td>\n",
       "    </tr>\n",
       "    <tr>\n",
       "      <th>10</th>\n",
       "      <td>114</td>\n",
       "      <td>NUEZ DE LA INDIA</td>\n",
       "      <td>400</td>\n",
       "      <td>4</td>\n",
       "    </tr>\n",
       "    <tr>\n",
       "      <th>11</th>\n",
       "      <td>115</td>\n",
       "      <td>PIÑÓN</td>\n",
       "      <td>500</td>\n",
       "      <td>4</td>\n",
       "    </tr>\n",
       "    <tr>\n",
       "      <th>12</th>\n",
       "      <td>116</td>\n",
       "      <td>PISTACHES</td>\n",
       "      <td>400</td>\n",
       "      <td>4</td>\n",
       "    </tr>\n",
       "    <tr>\n",
       "      <th>13</th>\n",
       "      <td>117</td>\n",
       "      <td>CALABAZA DE CASTILLA</td>\n",
       "      <td>130</td>\n",
       "      <td>4</td>\n",
       "    </tr>\n",
       "  </tbody>\n",
       "</table>\n",
       "</div>"
      ],
      "text/plain": [
       "    id_oilseeds              oilseeds  price  value_f\n",
       "9           113                  NUEZ    250        5\n",
       "10          114      NUEZ DE LA INDIA    400        4\n",
       "11          115                 PIÑÓN    500        4\n",
       "12          116             PISTACHES    400        4\n",
       "13          117  CALABAZA DE CASTILLA    130        4"
      ]
     },
     "execution_count": 8,
     "metadata": {},
     "output_type": "execute_result"
    }
   ],
   "source": [
    "dfo = pd.read_csv('oilseeds.csv', sep=',' ,encoding='latin-1') \n",
    "dfo.tail()"
   ]
  },
  {
   "cell_type": "code",
   "execution_count": 9,
   "metadata": {},
   "outputs": [],
   "source": [
    "name_o = dfo.iloc[0:14,1]\n",
    "weight_o = dfo.iloc[0:14,2]\n",
    "value_o = dfo.iloc[0:14,3]\n",
    "name_oi = []\n",
    "weight_oi = []\n",
    "value_oi = []\n",
    "for i in range(14):\n",
    "    name_oi.append(name_o[i])\n",
    "    value_oi.append(value_o[i])\n",
    "    weight_oi.append(weight_o[i])\n",
    "#name_oi\n",
    "#weight_oi\n",
    "#value_oi"
   ]
  },
  {
   "cell_type": "markdown",
   "metadata": {},
   "source": [
    "## Knapsack 0/1 usando Programacion Dinamica"
   ]
  },
  {
   "cell_type": "code",
   "execution_count": 10,
   "metadata": {},
   "outputs": [],
   "source": [
    "def knapsack_dp(W, wt, val, n): \n",
    "    # Matriz DP\n",
    "    K = [[0 for w in range(W + 1)] \n",
    "            for i in range(n + 1)]\n",
    "    # Lista para guardar indices de elemetos\n",
    "    items = []\n",
    "    \n",
    "    # Se construye  la matriz K[][] desde abajo\n",
    "    # hasta arriba\n",
    "    for i in range(n + 1): \n",
    "        for w in range(W + 1): \n",
    "            if i == 0 or w == 0: \n",
    "                K[i][w] = 0\n",
    "            elif wt[i - 1] <= w: \n",
    "                K[i][w] = max(val[i - 1] \n",
    "                + K[i - 1][w - wt[i - 1]], \n",
    "                            K[i - 1][w]) \n",
    "            else: \n",
    "                K[i][w] = K[i - 1][w] \n",
    "\n",
    "    # Resultado del Knapsack\n",
    "    res = K[n][W] \n",
    "    #print(res) \n",
    "    \n",
    "    #Nos movemos en la matriz para obtener\n",
    "    #Los items que fueron seleccionados\n",
    "    w = W \n",
    "    for i in range(n, 0, -1): \n",
    "        if res <= 0: \n",
    "            break\n",
    "        if res == K[i - 1][w]: \n",
    "            continue\n",
    "        else: \n",
    "            # Este item fue elegido \n",
    "            items.append((i - 1))\n",
    "            \n",
    "            # Como su peso fue incluido\n",
    "            # su valor es reducido\n",
    "            res = res - val[i - 1] \n",
    "            w = w - wt[i - 1]\n",
    "            \n",
    "    return items"
   ]
  },
  {
   "cell_type": "markdown",
   "metadata": {},
   "source": [
    "## Algoritmo Greedy para Fractional Knapsack"
   ]
  },
  {
   "cell_type": "code",
   "execution_count": 11,
   "metadata": {},
   "outputs": [],
   "source": [
    "# Un algoritmo greedy para el problema de knapsack fraccional\n",
    "# Notemos que se ordena por v/w si que modifiquemos v o w, para que se pueda\n",
    "# dar la salida con los indices que se quedaran en el knapsack al final\n",
    "\n",
    "def Knapsack_frac(v, w, W):\n",
    "    order = sort_proportion(v, w)   #Ordenamos por v/w (sort_proportion)          \n",
    "    weight = 0.0                               \n",
    "    value = 0.0                                \n",
    "    knapsack = []                              \n",
    "    n = len(v)\n",
    "    i = 0                                   \n",
    "    while (weight < W) and (i < n):\n",
    "        # Si podemos ajustar todo el order[i]-ésimo item\n",
    "        # agréguelo y actualice el peso y el valor\n",
    "        if weight + w[order[i]] <= W:         \n",
    "            knapsack.append((order[i], 1.0))   \n",
    "            weight = weight + w[order[i]]\n",
    "            value = value + v[order[i]]\n",
    "        else:\n",
    "        # De otra manera, calcula la fraccione que se ajuste\n",
    "        # y agregue esta fraccion\n",
    "            fraction = (W - weight) / w[order[i]]  \n",
    "            knapsack.append((order[i], fraction))\n",
    "            weight = W\n",
    "            value = value + v[order[i]] * fraction\n",
    "        i = i + 1\n",
    "    #Regrese los items elegidos en el knapsack y sus respectivos valores\n",
    "    return (knapsack, value)                       \n",
    "  \n",
    "# Ordenamos la lista en orden descendente por la razon de A[1] en N[i]\n",
    "# pero en vez de re-ordenar A y B, guardamos el orden en \n",
    "# un arreglo a parte.\n",
    "def sort_proportion(A, B):\n",
    "    n = len(A)\n",
    "    order = list(range(n))\n",
    "    for i in range(n - 1, 0, -1):     \n",
    "        for j in range(0, i):           \n",
    "            if ((1.0 * A[order[j]]) / B[order[j]]) < ((1.0 * A[order[j+1]]) / B[order[j+1]]):\n",
    "                #Se cambian \"apuntadores\" de los items\n",
    "                temp = order[j]              \n",
    "                order[j] = order[j+1]\n",
    "                order[j+1] = temp\n",
    "    return order"
   ]
  },
  {
   "cell_type": "markdown",
   "metadata": {},
   "source": [
    "# Resultados"
   ]
  },
  {
   "cell_type": "code",
   "execution_count": 12,
   "metadata": {},
   "outputs": [
    {
     "name": "stdout",
     "output_type": "stream",
     "text": [
      "TEJOCOTE\n",
      "SANDÍA\n",
      "PLÁTANO TABASCO\n",
      "PLÁTANO MORADO\n",
      "PLÁTANO DOMINICO\n",
      "PIÑA\n",
      "PERÓN\n",
      "PAPAYA\n",
      "NARANJA AGRIA\n",
      "NARANJA\n",
      "MANZANA\n",
      "MANDARINA\n",
      "LIMÓN REAL\n",
      "LIMÓN AGRIO\n",
      "LIMA\n",
      "GUAYABA\n",
      "CAPULÍN\n",
      "AGUACATE CRIOLLO\n",
      "AGUACATE\n",
      "Con $ 400.0  se compraran  19.0  KG de Fruta\n",
      "Alcanzaran cerca de:  21.0 dias\n",
      "En total se gasto:  396\n"
     ]
    }
   ],
   "source": [
    "val = value_fr\n",
    "wt = weight_fr \n",
    "W = int(W_f)\n",
    "n = len(val) \n",
    "A = knapsack_dp(W, wt, val, n) \n",
    "res = 0\n",
    "for i in A:\n",
    "    res += weight_fr[i]\n",
    "    print(name_fr[i])\n",
    "x = float(len(A))\n",
    "r = x//0.9\n",
    "print('Con $',W_f,' se compraran ',x ,' KG de Fruta')\n",
    "print('Alcanzaran cerca de: ',r, 'dias')\n",
    "print('En total se gasto: ', res)"
   ]
  },
  {
   "cell_type": "code",
   "execution_count": 13,
   "metadata": {},
   "outputs": [
    {
     "name": "stdout",
     "output_type": "stream",
     "text": [
      "ZANAHORIA\n",
      "VERDOLAGA\n",
      "TOMATE VERDE\n",
      "QUELITES\n",
      "PEPINO\n",
      "JITOMATE\n",
      "HUAZONTLE\n",
      "CEBOLLA CAMBRAY\n",
      "CEBOLLA\n",
      "CALABACITA\n",
      "BERROS\n",
      "ACELGA\n",
      "Con $ 200.0  se compraran  12.0  KG de Verdura\n",
      "Alcanzaran cerca de:  13.0 dias\n",
      "En total se gasto:  200\n"
     ]
    }
   ],
   "source": [
    "val = value_ve\n",
    "wt = weight_ve \n",
    "W = int(W_v)\n",
    "n = len(val) \n",
    "B = knapsack_dp(W, wt, val, n) \n",
    "res_ve = 0\n",
    "for i in B:\n",
    "    res_ve += weight_ve[i]\n",
    "    print(name_ve[i])\n",
    "x = float(len(B))\n",
    "r = x//0.9\n",
    "print('Con $',W_v,' se compraran ',x ,' KG de Verdura')\n",
    "print('Alcanzaran cerca de: ',r, 'dias')\n",
    "print('En total se gasto: ', res_ve)"
   ]
  },
  {
   "cell_type": "code",
   "execution_count": 14,
   "metadata": {},
   "outputs": [
    {
     "name": "stdout",
     "output_type": "stream",
     "text": [
      "GIRASOL -  1.0 KG\n",
      "CHÍA -  1.0 KG\n",
      "LINAZA -  1.0 KG\n",
      "AJONJOLÍ -  1.0 KG\n",
      "CACAHUATE -  1.0 KG\n",
      "CALABAZA DE CASTILLA -  0.9076923076923077 KG\n",
      "Con $ 400.0  se compraran  5.907692307692308  KG de Semillas Oleaginosas\n",
      "Alcanzaran cerca de:  124.06153846153848 dias\n",
      "En total se gasto:  400.0\n"
     ]
    }
   ],
   "source": [
    "w = weight_oi\n",
    "v = value_oi\n",
    "W = W_o\n",
    "C = Knapsack_frac(v, w, W)[0]\n",
    "total = 0\n",
    "res_oi = 0\n",
    "for tupla in C:\n",
    "    i = tupla[0]\n",
    "    frac = tupla[1]\n",
    "    total += frac\n",
    "    res_oi += weight_oi[i]*frac\n",
    "    print(name_oi[i], '- ', frac , 'KG')\n",
    "r_oi = 21*total\n",
    "print('Con $',W_o,' se compraran ',total ,' KG de Semillas Oleaginosas')\n",
    "print('Alcanzaran cerca de: ',r_oi, 'dias')\n",
    "print('En total se gasto: ', res_oi)"
   ]
  }
 ],
 "metadata": {
  "kernelspec": {
   "display_name": "Python 3",
   "language": "python",
   "name": "python3"
  },
  "language_info": {
   "codemirror_mode": {
    "name": "ipython",
    "version": 3
   },
   "file_extension": ".py",
   "mimetype": "text/x-python",
   "name": "python",
   "nbconvert_exporter": "python",
   "pygments_lexer": "ipython3",
   "version": "3.8.5"
  }
 },
 "nbformat": 4,
 "nbformat_minor": 4
}
