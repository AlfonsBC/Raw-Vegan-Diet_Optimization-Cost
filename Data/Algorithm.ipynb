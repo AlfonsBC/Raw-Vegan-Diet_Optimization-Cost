{
 "cells": [
  {
   "cell_type": "code",
   "execution_count": 16,
   "metadata": {},
   "outputs": [],
   "source": [
    "import numpy as np\n",
    "import pandas as pd\n",
    "from random import choices, randint, randrange, random\n",
    "from typing import List, Optional, Callable, Tuple"
   ]
  },
  {
   "cell_type": "markdown",
   "metadata": {},
   "source": [
    "# Optimizacion Costo-Nutricion Dieta Vegetariana Cruda"
   ]
  },
  {
   "cell_type": "markdown",
   "metadata": {},
   "source": [
    "A continuación escribe el presupuesto semanal para comprar alimentos de la dieta Vegetariana Cruda (Sin símbolo de pesos, sólo número) =:"
   ]
  },
  {
   "cell_type": "code",
   "execution_count": 17,
   "metadata": {},
   "outputs": [
    {
     "name": "stdout",
     "output_type": "stream",
     "text": [
      "6000\n"
     ]
    }
   ],
   "source": [
    "presupuesto_total = float(input())"
   ]
  },
  {
   "cell_type": "markdown",
   "metadata": {},
   "source": [
    "Se procede a dividir el presupuesto para obtener el dinero que se destinará a las frutas, verduras y semillas oleaginosas. Con un $40 \\%$ destinado a las frutas, un $40 \\%$ a las semillas oleaginosas mientras que el restante $20 \\%$ para las verduras."
   ]
  },
  {
   "cell_type": "code",
   "execution_count": 18,
   "metadata": {},
   "outputs": [],
   "source": [
    "def division_presupuesto(p):\n",
    "    f = 0.4*p\n",
    "    v = 0.2*p\n",
    "    o = 0.4*p\n",
    "    return f,v,o\n",
    "W_f, W_v, W_o = division_presupuesto(presupuesto_total)"
   ]
  },
  {
   "cell_type": "code",
   "execution_count": null,
   "metadata": {},
   "outputs": [],
   "source": []
  },
  {
   "cell_type": "markdown",
   "metadata": {},
   "source": [
    "## Algoritmo Evolutivo para Knapsack 0/1 Problem"
   ]
  },
  {
   "cell_type": "code",
   "execution_count": 10,
   "metadata": {},
   "outputs": [],
   "source": [
    "Genome = List[int]\n",
    "Population = List[Genome]\n",
    "PopulateFunc = Callable[[], Population]\n",
    "FitnessFunc = Callable[[Genome], int]\n",
    "SelectionFunc = Callable[[Population, FitnessFunc], Tuple[Genome, Genome]]\n",
    "CrossoverFunc = Callable[[Genome, Genome], Tuple[Genome, Genome]]\n",
    "MutationFunc = Callable[[Genome], Genome]\n",
    "PrinterFunc = Callable[[Population, int, FitnessFunc], None]\n",
    "\n",
    "\n",
    "def generate_genome(length: int) -> Genome:\n",
    "    return choices([0, 1], k=length)\n",
    "\n",
    "\n",
    "def generate_population(size: int, genome_length: int) -> Population:\n",
    "    return [generate_genome(genome_length) for _ in range(size)]\n",
    "\n",
    "\n",
    "def single_point_crossover(a: Genome, b: Genome) -> Tuple[Genome, Genome]:\n",
    "    if len(a) != len(b):\n",
    "        raise ValueError(\"Genomes a and b must be of same length\")\n",
    "\n",
    "    length = len(a)\n",
    "    if length < 2:\n",
    "        return a, b\n",
    "\n",
    "    p = randint(1, length - 1)\n",
    "    return a[0:p] + b[p:], b[0:p] + a[p:]\n",
    "\n",
    "\n",
    "def mutation(genome: Genome, num: int = 1, probability: float = 0.5) -> Genome:\n",
    "    for _ in range(num):\n",
    "        index = randrange(len(genome))\n",
    "        genome[index] = genome[index] if random() > probability else abs(genome[index] - 1)\n",
    "    return genome\n",
    "\n",
    "\n",
    "def population_fitness(population: Population, fitness_func: FitnessFunc) -> int:\n",
    "    return sum([fitness_func(genome) for genome in population])\n",
    "\n",
    "\n",
    "def selection_pair(population: Population, fitness_func: FitnessFunc) -> Population:\n",
    "    return choices(\n",
    "        population=population,\n",
    "        weights=[fitness_func(gene) for gene in population],\n",
    "        k=2\n",
    "    )\n",
    "\n",
    "\n",
    "def sort_population(population: Population, fitness_func: FitnessFunc) -> Population:\n",
    "    return sorted(population, key=fitness_func, reverse=True)\n",
    "\n",
    "\n",
    "def genome_to_string(genome: Genome) -> str:\n",
    "    return \"\".join(map(str, genome))\n",
    "\n",
    "\n",
    "def print_stats(population: Population, generation_id: int, fitness_func: FitnessFunc):\n",
    "    print(\"GENERATION %02d\" % generation_id)\n",
    "    print(\"=============\")\n",
    "    print(\"Population: [%s]\" % \", \".join([genome_to_string(gene) for gene in population]))\n",
    "    print(\"Avg. Fitness: %f\" % (population_fitness(population, fitness_func) / len(population)))\n",
    "    sorted_population = sort_population(population, fitness_func)\n",
    "    print(\n",
    "        \"Best: %s (%f)\" % (genome_to_string(sorted_population[0]), fitness_func(sorted_population[0])))\n",
    "    print(\"Worst: %s (%f)\" % (genome_to_string(sorted_population[-1]),\n",
    "                              fitness_func(sorted_population[-1])))\n",
    "    print(\"\")\n",
    "\n",
    "    return sorted_population[0]\n",
    "\n",
    "\n",
    "def run_evolution(\n",
    "        populate_func: PopulateFunc,\n",
    "        fitness_func: FitnessFunc,\n",
    "        fitness_limit: int,\n",
    "        selection_func: SelectionFunc = selection_pair,\n",
    "        crossover_func: CrossoverFunc = single_point_crossover,\n",
    "        mutation_func: MutationFunc = mutation,\n",
    "        generation_limit: int = 100,\n",
    "        printer: Optional[PrinterFunc] = None) \\\n",
    "        -> Tuple[Population, int]:\n",
    "    population = populate_func()\n",
    "\n",
    "    for i in range(generation_limit):\n",
    "        population = sorted(population, key=lambda genome: fitness_func(genome), reverse=True)\n",
    "\n",
    "        if printer is not None:\n",
    "            printer(population, i, fitness_func)\n",
    "\n",
    "        if fitness_func(population[0]) >= fitness_limit:\n",
    "            break\n",
    "\n",
    "        next_generation = population[0:2]\n",
    "\n",
    "        for j in range(int(len(population) / 2) - 1):\n",
    "            parents = selection_func(population, fitness_func)\n",
    "            offspring_a, offspring_b = crossover_func(parents[0], parents[1])\n",
    "            offspring_a = mutation_func(offspring_a)\n",
    "            offspring_b = mutation_func(offspring_b)\n",
    "            next_generation += [offspring_a, offspring_b]\n",
    "\n",
    "        population = next_generation\n",
    "\n",
    "    return population, i\n",
    "\n"
   ]
  },
  {
   "cell_type": "markdown",
   "metadata": {},
   "source": [
    "## Algoritmo Greedy para Fractional Knapsack"
   ]
  },
  {
   "cell_type": "code",
   "execution_count": 9,
   "metadata": {},
   "outputs": [
    {
     "name": "stdout",
     "output_type": "stream",
     "text": [
      "[(7, 1.0), (6, 0.25)]\n"
     ]
    }
   ],
   "source": [
    "# Un algoritmo greedy para el problema de knapsack fraccional\n",
    "# Notemos que se ordena por v/w si que modifiquemos v o w, para que se pueda\n",
    "# dar la salida con los indices que se quedaran en el knapsack al final\n",
    "\n",
    "def KnapsackFrac(v, w, W):\n",
    "    order = bubblesortByRatio(v, w)            \n",
    "    weight = 0.0                               \n",
    "    value = 0.0                                \n",
    "    knapsack = []                              \n",
    "    n = len(v)\n",
    "    index = 0                                   \n",
    "    while (weight < W) and (index < n):\n",
    "        if weight + w[order[index]] <= W:        \n",
    "            knapsack.append((order[index], 1.0))   \n",
    "            weight = weight + w[order[index]]\n",
    "            value = value + v[order[index]]\n",
    "        else:\n",
    "            fraction = (W - weight) / w[order[index]]  \n",
    "            knapsack.append((order[index], fraction))\n",
    "            weight = W\n",
    "            value = value + v[order[index]] * fraction\n",
    "        index = index + 1\n",
    "    return (knapsack, value)                       \n",
    "  \n",
    "# Ordenamos la lista en orden descendente por la razon de list1[1] en list2[i]\n",
    "# pero en vez de re-ordenar list1 y list2, guardamos el orden en \n",
    "# un arreglo a parte.\n",
    "def bubblesortByRatio(list1, list2):\n",
    "    n = len(list1)\n",
    "    order = list(range(n))\n",
    "    for i in range(n - 1, 0, -1):     \n",
    "        for j in range(0, i):           \n",
    "            if ((1.0 * list1[order[j]]) / list2[order[j]]) < ((1.0 * list1[order[j+1]]) / list2[order[j+1]]):\n",
    "                temp = order[j]              \n",
    "                order[j] = order[j+1]\n",
    "                order[j+1] = temp\n",
    "    return order\n",
    "\n",
    "w = [65,180,295,52,120,135,60,45,60,250,400,500,400,130]\n",
    "v = [5,4,3,3,3,3,5,4,5,5,4,4,4,4]\n",
    "W = 60\n",
    "print(KnapsackFrac(v, w, W)[0])"
   ]
  }
 ],
 "metadata": {
  "kernelspec": {
   "display_name": "Python 3",
   "language": "python",
   "name": "python3"
  },
  "language_info": {
   "codemirror_mode": {
    "name": "ipython",
    "version": 3
   },
   "file_extension": ".py",
   "mimetype": "text/x-python",
   "name": "python",
   "nbconvert_exporter": "python",
   "pygments_lexer": "ipython3",
   "version": "3.8.5"
  }
 },
 "nbformat": 4,
 "nbformat_minor": 4
}
