{
 "cells": [
  {
   "cell_type": "code",
   "execution_count": 1,
   "metadata": {},
   "outputs": [],
   "source": [
    "import pandas as pd\n",
    "import re\n",
    "import csv"
   ]
  },
  {
   "cell_type": "code",
   "execution_count": 2,
   "metadata": {},
   "outputs": [],
   "source": [
    "df = pd.read_excel('170_ALIMENTOS.xlsx')"
   ]
  },
  {
   "cell_type": "code",
   "execution_count": 6,
   "metadata": {},
   "outputs": [
    {
     "data": {
      "text/html": [
       "<div>\n",
       "<style scoped>\n",
       "    .dataframe tbody tr th:only-of-type {\n",
       "        vertical-align: middle;\n",
       "    }\n",
       "\n",
       "    .dataframe tbody tr th {\n",
       "        vertical-align: top;\n",
       "    }\n",
       "\n",
       "    .dataframe thead th {\n",
       "        text-align: right;\n",
       "    }\n",
       "</style>\n",
       "<table border=\"1\" class=\"dataframe\">\n",
       "  <thead>\n",
       "    <tr style=\"text-align: right;\">\n",
       "      <th></th>\n",
       "      <th>Unnamed: 0</th>\n",
       "      <th>ALIMENTOS SALUDABLES MODELO HERBÍVORO-ERICK ESTRADA</th>\n",
       "      <th>Unnamed: 2</th>\n",
       "      <th>Unnamed: 3</th>\n",
       "    </tr>\n",
       "  </thead>\n",
       "  <tbody>\n",
       "    <tr>\n",
       "      <th>0</th>\n",
       "      <td>NaN</td>\n",
       "      <td>NaN</td>\n",
       "      <td>NaN</td>\n",
       "      <td>NaN</td>\n",
       "    </tr>\n",
       "    <tr>\n",
       "      <th>1</th>\n",
       "      <td>NaN</td>\n",
       "      <td>Lista de alimentos saludables</td>\n",
       "      <td>NaN</td>\n",
       "      <td>NaN</td>\n",
       "    </tr>\n",
       "    <tr>\n",
       "      <th>2</th>\n",
       "      <td>NaN</td>\n",
       "      <td>No.</td>\n",
       "      <td>ALIMENTO SALUDABLE</td>\n",
       "      <td>LIGA EN YOUTUBE</td>\n",
       "    </tr>\n",
       "    <tr>\n",
       "      <th>3</th>\n",
       "      <td>NaN</td>\n",
       "      <td>NaN</td>\n",
       "      <td>FRUTAS</td>\n",
       "      <td>NaN</td>\n",
       "    </tr>\n",
       "    <tr>\n",
       "      <th>4</th>\n",
       "      <td>NaN</td>\n",
       "      <td>1</td>\n",
       "      <td>AGUACATE  (Persea americana)</td>\n",
       "      <td>https://www.youtube.com/watch?v=kuLGQqXebOk</td>\n",
       "    </tr>\n",
       "  </tbody>\n",
       "</table>\n",
       "</div>"
      ],
      "text/plain": [
       "   Unnamed: 0 ALIMENTOS SALUDABLES MODELO HERBÍVORO-ERICK ESTRADA  \\\n",
       "0         NaN                                                NaN    \n",
       "1         NaN                      Lista de alimentos saludables    \n",
       "2         NaN                                                No.    \n",
       "3         NaN                                                NaN    \n",
       "4         NaN                                                  1    \n",
       "\n",
       "                     Unnamed: 2                                   Unnamed: 3  \n",
       "0                           NaN                                          NaN  \n",
       "1                           NaN                                          NaN  \n",
       "2            ALIMENTO SALUDABLE                              LIGA EN YOUTUBE  \n",
       "3                        FRUTAS                                          NaN  \n",
       "4  AGUACATE  (Persea americana)  https://www.youtube.com/watch?v=kuLGQqXebOk  "
      ]
     },
     "execution_count": 6,
     "metadata": {},
     "output_type": "execute_result"
    }
   ],
   "source": [
    "df.head()"
   ]
  },
  {
   "cell_type": "code",
   "execution_count": 121,
   "metadata": {},
   "outputs": [],
   "source": [
    "frutas = df.iloc[4:57, 2]\n",
    "A = []\n",
    "for i in frutas:\n",
    "    j = str(i)\n",
    "    k = re.sub(r'\\([^)]*\\)', '',j)\n",
    "    final = re.sub(r\"\\s+$\", \"\", k, flags=re.UNICODE)\n",
    "    A.append(final)\n",
    "n = len(A)\n",
    "B = list(range(1,n+1))\n",
    "#print(A)\n",
    "#print(B)"
   ]
  },
  {
   "cell_type": "code",
   "execution_count": 122,
   "metadata": {},
   "outputs": [],
   "source": [
    "savelst = [A,B]\n",
    "with open('fruits.csv', 'w', newline='') as file:\n",
    "    fieldnames = ['id_fruits', 'fruits']\n",
    "    writer = csv.DictWriter(file, fieldnames=fieldnames)\n",
    "\n",
    "    writer.writeheader()\n",
    "    for i in range(n):\n",
    "        fruit = A[i]\n",
    "        id_fruit = B[i]\n",
    "        writer.writerow({'id_fruits': id_fruit , 'fruits': fruit})\n",
    "   "
   ]
  },
  {
   "cell_type": "code",
   "execution_count": 124,
   "metadata": {},
   "outputs": [],
   "source": [
    "veg = df.iloc[59:114, 2]\n",
    "C = []\n",
    "for i in veg:\n",
    "    j = str(i)\n",
    "    k = re.sub(r'\\([^)]*\\)', '',j)\n",
    "    final = re.sub(r\"\\s+$\", \"\", k, flags=re.UNICODE)\n",
    "    C.append(final)\n",
    "m = len(C)\n",
    "D = list(range(54,m+54))\n",
    "#print(C)\n",
    "#print(D)"
   ]
  },
  {
   "cell_type": "code",
   "execution_count": 125,
   "metadata": {},
   "outputs": [],
   "source": [
    "savelst = [C,D]\n",
    "with open('vegetables.csv', 'w', newline='') as file:\n",
    "    fieldnames = ['id_vegetables', 'vegetables']\n",
    "    writer = csv.DictWriter(file, fieldnames=fieldnames)\n",
    "\n",
    "    writer.writeheader()\n",
    "    for i in range(m):\n",
    "        vegetables = C[i]\n",
    "        id_vegetables = D[i]\n",
    "        writer.writerow({'id_vegetables': id_vegetables , 'vegetables': vegetables})"
   ]
  },
  {
   "cell_type": "code",
   "execution_count": 4,
   "metadata": {},
   "outputs": [],
   "source": [
    "tub = df.iloc[129:136,2]\n",
    "tub = tub.drop([133,134])\n",
    "tub\n",
    "E =[]\n",
    "for i in tub:\n",
    "    j = str(i)\n",
    "    k = re.sub(r'\\([^)]*\\)', '',j)\n",
    "    final = re.sub(r\"\\s+$\", \"\", k, flags=re.UNICODE)\n",
    "    E.append(final)\n",
    "k = len(E)\n",
    "F = list(range(97,k+97))\n",
    "#print(E)\n",
    "#print(F)"
   ]
  },
  {
   "cell_type": "code",
   "execution_count": 5,
   "metadata": {},
   "outputs": [],
   "source": [
    "savelst = [E,F]\n",
    "with open('tubers_rhizomes.csv', 'w', newline='') as file:\n",
    "    fieldnames = ['id_tub', 'tuber_rhizome']\n",
    "    writer = csv.DictWriter(file, fieldnames=fieldnames)\n",
    "\n",
    "    writer.writeheader()\n",
    "    for i in range(k):\n",
    "        tuber_rhizome = E[i]\n",
    "        id_tub = F[i]\n",
    "        writer.writerow({'id_tub': id_tub , 'tuber_rhizome': tuber_rhizome})"
   ]
  },
  {
   "cell_type": "code",
   "execution_count": 117,
   "metadata": {},
   "outputs": [],
   "source": [
    "I = ['CHAMPIÑÓN','CUITLACOCHE']\n",
    "J = [102,103]"
   ]
  },
  {
   "cell_type": "code",
   "execution_count": 6,
   "metadata": {},
   "outputs": [],
   "source": [
    "seeds = df.iloc[142:156, 2]\n",
    "G = []\n",
    "for i in seeds:\n",
    "    j = str(i)\n",
    "    k = re.sub(r'\\([^)]*\\)', '',j)\n",
    "    final = re.sub(r\"\\s+$\", \"\", k, flags=re.UNICODE)\n",
    "    G.append(final)\n",
    "l = len(G)\n",
    "H = list(range(104,l+104))\n",
    "#print(G)\n",
    "#print(H)"
   ]
  },
  {
   "cell_type": "code",
   "execution_count": 7,
   "metadata": {},
   "outputs": [],
   "source": [
    "savelst = [G,H]\n",
    "with open('oilseeds.csv', 'w', newline='') as file:\n",
    "    fieldnames = ['id_oilseeds', 'oilseeds']\n",
    "    writer = csv.DictWriter(file, fieldnames=fieldnames)\n",
    "\n",
    "    writer.writeheader()\n",
    "    for i in range(l):\n",
    "        oilseeds = G[i]\n",
    "        id_oilseeds = H[i]\n",
    "        writer.writerow({'id_oilseeds': id_oilseeds , 'oilseeds': oilseeds})"
   ]
  },
  {
   "cell_type": "code",
   "execution_count": null,
   "metadata": {},
   "outputs": [],
   "source": []
  }
 ],
 "metadata": {
  "kernelspec": {
   "display_name": "Python 3",
   "language": "python",
   "name": "python3"
  },
  "language_info": {
   "codemirror_mode": {
    "name": "ipython",
    "version": 3
   },
   "file_extension": ".py",
   "mimetype": "text/x-python",
   "name": "python",
   "nbconvert_exporter": "python",
   "pygments_lexer": "ipython3",
   "version": "3.8.5"
  }
 },
 "nbformat": 4,
 "nbformat_minor": 4
}
